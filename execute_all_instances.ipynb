{
 "cells": [
  {
   "cell_type": "code",
   "execution_count": 1,
   "id": "quarterly-memphis",
   "metadata": {},
   "outputs": [
    {
     "data": {
      "text/plain": [
       "solve_limited_time (generic function with 1 method)"
      ]
     },
     "execution_count": 1,
     "metadata": {},
     "output_type": "execute_result"
    }
   ],
   "source": [
    "function solve_limited_time(max_time::Int, key::Int)\n",
    "    start_time = time()\n",
    "    print(\"\\n--------------------------------\\nstarting\\n--------------------------------\\n\")\n",
    "    r = Channel()\n",
    "    @async put!(r, remotecall_fetch(solve_instances, key))\n",
    "    print(\"Checking\")\n",
    "    while (time() - start_time) < max_time && !isready(r)\n",
    "        sleep(10)\n",
    "        print(\".\")\n",
    "        flush(stdout)\n",
    "    end\n",
    "    if !isready(r)\n",
    "        interrupt(key)\n",
    "        println(\"\\nInterrupted\")\n",
    "    else\n",
    "        println(\"\\nFinished early\")\n",
    "    end\n",
    "end"
   ]
  },
  {
   "cell_type": "code",
   "execution_count": 2,
   "id": "national-drink",
   "metadata": {},
   "outputs": [
    {
     "name": "stdout",
     "output_type": "stream",
     "text": [
      "\n",
      "--------------------------------\n",
      "starting\n",
      "--------------------------------\n",
      "Checking....................................................................................................................................................................................\n",
      "Interrupted\n"
     ]
    }
   ],
   "source": [
    "using Distributed\n",
    "\n",
    "if nprocs() < 2\n",
    "    key = addprocs(1)[1]\n",
    "else\n",
    "    key = procs()[2]\n",
    "end\n",
    "\n",
    "@everywhere using CPLEX\n",
    "@everywhere using JuMP\n",
    "@everywhere using Dates\n",
    "@everywhere include(\"cutting_planes.jl\")\n",
    "\n",
    "solve_limited_time(1800, key)"
   ]
  }
 ],
 "metadata": {
  "kernelspec": {
   "display_name": "Julia 1.5.3",
   "language": "julia",
   "name": "julia-1.5"
  },
  "language_info": {
   "file_extension": ".jl",
   "mimetype": "application/julia",
   "name": "julia",
   "version": "1.5.3"
  }
 },
 "nbformat": 4,
 "nbformat_minor": 5
}
